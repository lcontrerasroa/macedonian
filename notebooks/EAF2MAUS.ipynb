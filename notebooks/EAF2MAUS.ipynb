{
  "nbformat": 4,
  "nbformat_minor": 0,
  "metadata": {
    "colab": {
      "provenance": [],
      "authorship_tag": "ABX9TyN7goN/CRD0HOvb77zTgi5P",
      "include_colab_link": true
    },
    "kernelspec": {
      "name": "python3",
      "display_name": "Python 3"
    },
    "language_info": {
      "name": "python"
    }
  },
  "cells": [
    {
      "cell_type": "markdown",
      "metadata": {
        "id": "view-in-github",
        "colab_type": "text"
      },
      "source": [
        "<a href=\"https://colab.research.google.com/github/lcontrerasroa/macedonian/blob/main/notebooks/EAF2MAUS.ipynb\" target=\"_parent\"><img src=\"https://colab.research.google.com/assets/colab-badge.svg\" alt=\"Open In Colab\"/></a>"
      ]
    },
    {
      "cell_type": "code",
      "execution_count": 2,
      "metadata": {
        "id": "MEIVrjzCTdnp",
        "colab": {
          "base_uri": "https://localhost:8080/"
        },
        "outputId": "621fa484-911f-4e70-a23c-373b6e26923f"
      },
      "outputs": [
        {
          "output_type": "stream",
          "name": "stdout",
          "text": [
            "Folder /content/eaf_new already exists — skipping clone.\n",
            "new_only\n"
          ]
        }
      ],
      "source": [
        "# @title Fetch .eaf files directly from GitHub\n",
        "import os\n",
        "from pathlib import Path\n",
        "\n",
        "# ton dépôt (change si besoin)\n",
        "REPO_URL = \"https://github.com/lcontrerasroa/macedonian.git\"\n",
        "TARGET_DIR = Path(\"/content/eaf_new\")\n",
        "\n",
        "if not TARGET_DIR.exists():\n",
        "    os.system(f\"git clone --depth 1 {REPO_URL} /content/macedonian\")\n",
        "    os.makedirs(TARGET_DIR, exist_ok=True)\n",
        "    # copie uniquement les .eaf du dossier data/eaf_new dans eaf_new\n",
        "    os.system(\"cp /content/macedonian/data/eaf_new/*.eaf /content/eaf_new/\")\n",
        "    print(\"✅ .eaf files imported from GitHub into /content/eaf_new\")\n",
        "else:\n",
        "    print(\"Folder /content/eaf_new already exists — skipping clone.\")\n",
        "\n",
        "# vérification\n",
        "!ls /content/eaf_new\n"
      ]
    },
    {
      "cell_type": "code",
      "source": [
        "# @title Inspect the internal tier structure of all EAF files\n",
        "!pip -q install pympi-ling\n",
        "\n",
        "from pathlib import Path\n",
        "import pympi\n",
        "import re\n",
        "\n",
        "# === Paths ===\n",
        "root = Path(\"/content/eaf_new\")  # dossier contenant les *_new.eaf\n",
        "assert root.exists(), \"The folder /content/eaf_new doesn't exist. Upload or unzip your .eaf files first.\"\n",
        "\n",
        "# === Function to summarize one EAF ===\n",
        "def summarize_eaf(path):\n",
        "    eaf = pympi.Elan.Eaf(str(path))\n",
        "    tiers = eaf.get_tier_names()\n",
        "    info = []\n",
        "    for t in tiers:\n",
        "        anns = eaf.get_annotation_data_for_tier(t)\n",
        "        non_empty = [a for a in anns if a[2] and str(a[2]).strip()]\n",
        "        info.append({\n",
        "            \"tier\": t,\n",
        "            \"annotations\": len(anns),\n",
        "            \"non_empty\": len(non_empty)\n",
        "        })\n",
        "    return info\n",
        "\n",
        "# === Loop over all .eaf files ===\n",
        "results = []\n",
        "for eaf_file in sorted(root.glob(\"*.eaf\")):\n",
        "    try:\n",
        "        tiers = summarize_eaf(eaf_file)\n",
        "        results.append((eaf_file.name, tiers))\n",
        "    except Exception as e:\n",
        "        results.append((eaf_file.name, f\"ERROR: {e}\"))\n",
        "\n",
        "# === Display ===\n",
        "for name, tiers in results:\n",
        "    print(f\"\\n=== {name} ===\")\n",
        "    if isinstance(tiers, str):\n",
        "        print(\"  \", tiers)\n",
        "        continue\n",
        "    for t in tiers:\n",
        "        tname = t[\"tier\"]\n",
        "        nn = t[\"non_empty\"]\n",
        "        tot = t[\"annotations\"]\n",
        "        pct = (nn / tot * 100) if tot else 0\n",
        "        print(f\"  - {tname:30s} {nn:4d}/{tot:<4d} ({pct:5.1f}%) non-empty\")\n"
      ],
      "metadata": {
        "id": "bVJks1aHzUSc"
      },
      "execution_count": 3,
      "outputs": []
    }
  ]
}